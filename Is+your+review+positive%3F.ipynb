{
 "cells": [
  {
   "cell_type": "markdown",
   "metadata": {},
   "source": [
    "<h1> Classify your reviews text using advanced natural langugage processing techniques and mathematical optimization algorithms"
   ]
  },
  {
   "cell_type": "code",
   "execution_count": 149,
   "metadata": {
    "collapsed": true
   },
   "outputs": [],
   "source": [
    "import numpy as np\n",
    "import pandas as pd\n",
    "import matplotlib.pyplot as plt\n",
    "%matplotlib inline\n",
    "import seaborn as sns"
   ]
  },
  {
   "cell_type": "code",
   "execution_count": 150,
   "metadata": {},
   "outputs": [],
   "source": [
    "raw_reviews_df = pd.read_json('/home/nikhil/Downloads/Electronics_Split/electronics_reviews_aa.json', lines=True)"
   ]
  },
  {
   "cell_type": "code",
   "execution_count": 151,
   "metadata": {},
   "outputs": [
    {
     "data": {
      "text/html": [
       "<div>\n",
       "<style>\n",
       "    .dataframe thead tr:only-child th {\n",
       "        text-align: right;\n",
       "    }\n",
       "\n",
       "    .dataframe thead th {\n",
       "        text-align: left;\n",
       "    }\n",
       "\n",
       "    .dataframe tbody tr th {\n",
       "        vertical-align: top;\n",
       "    }\n",
       "</style>\n",
       "<table border=\"1\" class=\"dataframe\">\n",
       "  <thead>\n",
       "    <tr style=\"text-align: right;\">\n",
       "      <th></th>\n",
       "      <th>asin</th>\n",
       "      <th>helpful</th>\n",
       "      <th>overall</th>\n",
       "      <th>reviewText</th>\n",
       "      <th>reviewTime</th>\n",
       "      <th>reviewerID</th>\n",
       "      <th>reviewerName</th>\n",
       "      <th>summary</th>\n",
       "      <th>unixReviewTime</th>\n",
       "    </tr>\n",
       "  </thead>\n",
       "  <tbody>\n",
       "    <tr>\n",
       "      <th>0</th>\n",
       "      <td>0528881469</td>\n",
       "      <td>[0, 0]</td>\n",
       "      <td>5</td>\n",
       "      <td>We got this GPS for my husband who is an (OTR)...</td>\n",
       "      <td>06 2, 2013</td>\n",
       "      <td>AO94DHGC771SJ</td>\n",
       "      <td>amazdnu</td>\n",
       "      <td>Gotta have GPS!</td>\n",
       "      <td>1370131200</td>\n",
       "    </tr>\n",
       "    <tr>\n",
       "      <th>1</th>\n",
       "      <td>0528881469</td>\n",
       "      <td>[12, 15]</td>\n",
       "      <td>1</td>\n",
       "      <td>I'm a professional OTR truck driver, and I bou...</td>\n",
       "      <td>11 25, 2010</td>\n",
       "      <td>AMO214LNFCEI4</td>\n",
       "      <td>Amazon Customer</td>\n",
       "      <td>Very Disappointed</td>\n",
       "      <td>1290643200</td>\n",
       "    </tr>\n",
       "    <tr>\n",
       "      <th>2</th>\n",
       "      <td>0528881469</td>\n",
       "      <td>[43, 45]</td>\n",
       "      <td>3</td>\n",
       "      <td>Well, what can I say.  I've had this unit in m...</td>\n",
       "      <td>09 9, 2010</td>\n",
       "      <td>A3N7T0DY83Y4IG</td>\n",
       "      <td>C. A. Freeman</td>\n",
       "      <td>1st impression</td>\n",
       "      <td>1283990400</td>\n",
       "    </tr>\n",
       "    <tr>\n",
       "      <th>3</th>\n",
       "      <td>0528881469</td>\n",
       "      <td>[9, 10]</td>\n",
       "      <td>2</td>\n",
       "      <td>Not going to write a long review, even thought...</td>\n",
       "      <td>11 24, 2010</td>\n",
       "      <td>A1H8PY3QHMQQA0</td>\n",
       "      <td>Dave M. Shaw \"mack dave\"</td>\n",
       "      <td>Great grafics, POOR GPS</td>\n",
       "      <td>1290556800</td>\n",
       "    </tr>\n",
       "    <tr>\n",
       "      <th>4</th>\n",
       "      <td>0528881469</td>\n",
       "      <td>[0, 0]</td>\n",
       "      <td>1</td>\n",
       "      <td>I've had mine for a year and here's what we go...</td>\n",
       "      <td>09 29, 2011</td>\n",
       "      <td>A24EV6RXELQZ63</td>\n",
       "      <td>Wayne Smith</td>\n",
       "      <td>Major issues, only excuses for support</td>\n",
       "      <td>1317254400</td>\n",
       "    </tr>\n",
       "  </tbody>\n",
       "</table>\n",
       "</div>"
      ],
      "text/plain": [
       "         asin   helpful  overall  \\\n",
       "0  0528881469    [0, 0]        5   \n",
       "1  0528881469  [12, 15]        1   \n",
       "2  0528881469  [43, 45]        3   \n",
       "3  0528881469   [9, 10]        2   \n",
       "4  0528881469    [0, 0]        1   \n",
       "\n",
       "                                          reviewText   reviewTime  \\\n",
       "0  We got this GPS for my husband who is an (OTR)...   06 2, 2013   \n",
       "1  I'm a professional OTR truck driver, and I bou...  11 25, 2010   \n",
       "2  Well, what can I say.  I've had this unit in m...   09 9, 2010   \n",
       "3  Not going to write a long review, even thought...  11 24, 2010   \n",
       "4  I've had mine for a year and here's what we go...  09 29, 2011   \n",
       "\n",
       "       reviewerID              reviewerName  \\\n",
       "0   AO94DHGC771SJ                   amazdnu   \n",
       "1   AMO214LNFCEI4           Amazon Customer   \n",
       "2  A3N7T0DY83Y4IG             C. A. Freeman   \n",
       "3  A1H8PY3QHMQQA0  Dave M. Shaw \"mack dave\"   \n",
       "4  A24EV6RXELQZ63               Wayne Smith   \n",
       "\n",
       "                                  summary  unixReviewTime  \n",
       "0                         Gotta have GPS!      1370131200  \n",
       "1                       Very Disappointed      1290643200  \n",
       "2                          1st impression      1283990400  \n",
       "3                 Great grafics, POOR GPS      1290556800  \n",
       "4  Major issues, only excuses for support      1317254400  "
      ]
     },
     "execution_count": 151,
     "metadata": {},
     "output_type": "execute_result"
    }
   ],
   "source": [
    "raw_reviews_df.head()"
   ]
  },
  {
   "cell_type": "code",
   "execution_count": 152,
   "metadata": {},
   "outputs": [
    {
     "data": {
      "text/html": [
       "<div>\n",
       "<style>\n",
       "    .dataframe thead tr:only-child th {\n",
       "        text-align: right;\n",
       "    }\n",
       "\n",
       "    .dataframe thead th {\n",
       "        text-align: left;\n",
       "    }\n",
       "\n",
       "    .dataframe tbody tr th {\n",
       "        vertical-align: top;\n",
       "    }\n",
       "</style>\n",
       "<table border=\"1\" class=\"dataframe\">\n",
       "  <thead>\n",
       "    <tr style=\"text-align: right;\">\n",
       "      <th></th>\n",
       "      <th>asin</th>\n",
       "      <th>helpful</th>\n",
       "      <th>overall</th>\n",
       "      <th>reviewText</th>\n",
       "      <th>reviewTime</th>\n",
       "      <th>reviewerID</th>\n",
       "      <th>reviewerName</th>\n",
       "      <th>summary</th>\n",
       "      <th>unixReviewTime</th>\n",
       "    </tr>\n",
       "  </thead>\n",
       "  <tbody>\n",
       "    <tr>\n",
       "      <th>123575</th>\n",
       "      <td>B0002ZW5W4</td>\n",
       "      <td>[0, 0]</td>\n",
       "      <td>1</td>\n",
       "      <td>These do have good noise blocking abilities, a...</td>\n",
       "      <td>03 20, 2011</td>\n",
       "      <td>A30VX6KH8RZS4R</td>\n",
       "      <td>gilbert</td>\n",
       "      <td>Terrible sound quality</td>\n",
       "      <td>1300579200</td>\n",
       "    </tr>\n",
       "    <tr>\n",
       "      <th>123576</th>\n",
       "      <td>B0002ZW5W4</td>\n",
       "      <td>[0, 0]</td>\n",
       "      <td>5</td>\n",
       "      <td>Needed a pair of in ear headphones to use whil...</td>\n",
       "      <td>10 8, 2006</td>\n",
       "      <td>AKJJOPDX9WMEQ</td>\n",
       "      <td>G. Lawrence</td>\n",
       "      <td>So far, so good</td>\n",
       "      <td>1160265600</td>\n",
       "    </tr>\n",
       "    <tr>\n",
       "      <th>123577</th>\n",
       "      <td>B0002ZW5W4</td>\n",
       "      <td>[0, 0]</td>\n",
       "      <td>5</td>\n",
       "      <td>Purchased the Etymotic ER6i Earphones about a ...</td>\n",
       "      <td>09 20, 2009</td>\n",
       "      <td>A2WIC2PPTPTQ2M</td>\n",
       "      <td>G.Milliken</td>\n",
       "      <td>Works for me!</td>\n",
       "      <td>1253404800</td>\n",
       "    </tr>\n",
       "    <tr>\n",
       "      <th>123578</th>\n",
       "      <td>B0002ZW5W4</td>\n",
       "      <td>[0, 8]</td>\n",
       "      <td>3</td>\n",
       "      <td>I used these 4 times and they have stopped wor...</td>\n",
       "      <td>12 30, 2006</td>\n",
       "      <td>A1QCFT8LPDEZIY</td>\n",
       "      <td>Graham S. Sherrington \"cyberphobia\"</td>\n",
       "      <td>not very good</td>\n",
       "      <td>1167436800</td>\n",
       "    </tr>\n",
       "    <tr>\n",
       "      <th>123579</th>\n",
       "      <td>B0002ZW5W4</td>\n",
       "      <td>[0, 0]</td>\n",
       "      <td>5</td>\n",
       "      <td>I have had the same pair for 3-4 years and use...</td>\n",
       "      <td>01 10, 2009</td>\n",
       "      <td>A2L232VPEGQU95</td>\n",
       "      <td>Gregory A. Post</td>\n",
       "      <td>Always look forward to using my ER6i's</td>\n",
       "      <td>1231545600</td>\n",
       "    </tr>\n",
       "  </tbody>\n",
       "</table>\n",
       "</div>"
      ],
      "text/plain": [
       "              asin helpful  overall  \\\n",
       "123575  B0002ZW5W4  [0, 0]        1   \n",
       "123576  B0002ZW5W4  [0, 0]        5   \n",
       "123577  B0002ZW5W4  [0, 0]        5   \n",
       "123578  B0002ZW5W4  [0, 8]        3   \n",
       "123579  B0002ZW5W4  [0, 0]        5   \n",
       "\n",
       "                                               reviewText   reviewTime  \\\n",
       "123575  These do have good noise blocking abilities, a...  03 20, 2011   \n",
       "123576  Needed a pair of in ear headphones to use whil...   10 8, 2006   \n",
       "123577  Purchased the Etymotic ER6i Earphones about a ...  09 20, 2009   \n",
       "123578  I used these 4 times and they have stopped wor...  12 30, 2006   \n",
       "123579  I have had the same pair for 3-4 years and use...  01 10, 2009   \n",
       "\n",
       "            reviewerID                         reviewerName  \\\n",
       "123575  A30VX6KH8RZS4R                              gilbert   \n",
       "123576   AKJJOPDX9WMEQ                          G. Lawrence   \n",
       "123577  A2WIC2PPTPTQ2M                           G.Milliken   \n",
       "123578  A1QCFT8LPDEZIY  Graham S. Sherrington \"cyberphobia\"   \n",
       "123579  A2L232VPEGQU95                      Gregory A. Post   \n",
       "\n",
       "                                       summary  unixReviewTime  \n",
       "123575                  Terrible sound quality      1300579200  \n",
       "123576                         So far, so good      1160265600  \n",
       "123577                           Works for me!      1253404800  \n",
       "123578                           not very good      1167436800  \n",
       "123579  Always look forward to using my ER6i's      1231545600  "
      ]
     },
     "execution_count": 152,
     "metadata": {},
     "output_type": "execute_result"
    }
   ],
   "source": [
    "raw_reviews_df.tail()"
   ]
  },
  {
   "cell_type": "code",
   "execution_count": 153,
   "metadata": {},
   "outputs": [
    {
     "data": {
      "text/plain": [
       "(123580, 9)"
      ]
     },
     "execution_count": 153,
     "metadata": {},
     "output_type": "execute_result"
    }
   ],
   "source": [
    "raw_reviews_df.shape"
   ]
  },
  {
   "cell_type": "code",
   "execution_count": 154,
   "metadata": {},
   "outputs": [
    {
     "data": {
      "text/plain": [
       "asin                0\n",
       "helpful             0\n",
       "overall             0\n",
       "reviewText          0\n",
       "reviewTime          0\n",
       "reviewerID          0\n",
       "reviewerName      447\n",
       "summary             0\n",
       "unixReviewTime      0\n",
       "dtype: int64"
      ]
     },
     "execution_count": 154,
     "metadata": {},
     "output_type": "execute_result"
    }
   ],
   "source": [
    "raw_reviews_df.isnull().sum()"
   ]
  },
  {
   "cell_type": "code",
   "execution_count": 155,
   "metadata": {},
   "outputs": [
    {
     "name": "stdout",
     "output_type": "stream",
     "text": [
      "No of words reviewText: 123,580 words\n"
     ]
    }
   ],
   "source": [
    "print('No of words reviewText: {:,} words'.format(len(raw_reviews_df['reviewText'])))"
   ]
  },
  {
   "cell_type": "code",
   "execution_count": 156,
   "metadata": {
    "collapsed": true
   },
   "outputs": [],
   "source": [
    "raw_reviews_df['reviewTime'] = pd.to_datetime(raw_reviews_df['reviewTime'])"
   ]
  },
  {
   "cell_type": "code",
   "execution_count": 157,
   "metadata": {},
   "outputs": [
    {
     "data": {
      "text/html": [
       "<div>\n",
       "<style>\n",
       "    .dataframe thead tr:only-child th {\n",
       "        text-align: right;\n",
       "    }\n",
       "\n",
       "    .dataframe thead th {\n",
       "        text-align: left;\n",
       "    }\n",
       "\n",
       "    .dataframe tbody tr th {\n",
       "        vertical-align: top;\n",
       "    }\n",
       "</style>\n",
       "<table border=\"1\" class=\"dataframe\">\n",
       "  <thead>\n",
       "    <tr style=\"text-align: right;\">\n",
       "      <th></th>\n",
       "      <th>asin</th>\n",
       "      <th>helpful</th>\n",
       "      <th>overall</th>\n",
       "      <th>reviewText</th>\n",
       "      <th>reviewTime</th>\n",
       "      <th>reviewerID</th>\n",
       "      <th>reviewerName</th>\n",
       "      <th>summary</th>\n",
       "      <th>unixReviewTime</th>\n",
       "    </tr>\n",
       "  </thead>\n",
       "  <tbody>\n",
       "    <tr>\n",
       "      <th>0</th>\n",
       "      <td>0528881469</td>\n",
       "      <td>[0, 0]</td>\n",
       "      <td>5</td>\n",
       "      <td>We got this GPS for my husband who is an (OTR)...</td>\n",
       "      <td>2013-06-02</td>\n",
       "      <td>AO94DHGC771SJ</td>\n",
       "      <td>amazdnu</td>\n",
       "      <td>Gotta have GPS!</td>\n",
       "      <td>1370131200</td>\n",
       "    </tr>\n",
       "    <tr>\n",
       "      <th>1</th>\n",
       "      <td>0528881469</td>\n",
       "      <td>[12, 15]</td>\n",
       "      <td>1</td>\n",
       "      <td>I'm a professional OTR truck driver, and I bou...</td>\n",
       "      <td>2010-11-25</td>\n",
       "      <td>AMO214LNFCEI4</td>\n",
       "      <td>Amazon Customer</td>\n",
       "      <td>Very Disappointed</td>\n",
       "      <td>1290643200</td>\n",
       "    </tr>\n",
       "    <tr>\n",
       "      <th>2</th>\n",
       "      <td>0528881469</td>\n",
       "      <td>[43, 45]</td>\n",
       "      <td>3</td>\n",
       "      <td>Well, what can I say.  I've had this unit in m...</td>\n",
       "      <td>2010-09-09</td>\n",
       "      <td>A3N7T0DY83Y4IG</td>\n",
       "      <td>C. A. Freeman</td>\n",
       "      <td>1st impression</td>\n",
       "      <td>1283990400</td>\n",
       "    </tr>\n",
       "    <tr>\n",
       "      <th>3</th>\n",
       "      <td>0528881469</td>\n",
       "      <td>[9, 10]</td>\n",
       "      <td>2</td>\n",
       "      <td>Not going to write a long review, even thought...</td>\n",
       "      <td>2010-11-24</td>\n",
       "      <td>A1H8PY3QHMQQA0</td>\n",
       "      <td>Dave M. Shaw \"mack dave\"</td>\n",
       "      <td>Great grafics, POOR GPS</td>\n",
       "      <td>1290556800</td>\n",
       "    </tr>\n",
       "    <tr>\n",
       "      <th>4</th>\n",
       "      <td>0528881469</td>\n",
       "      <td>[0, 0]</td>\n",
       "      <td>1</td>\n",
       "      <td>I've had mine for a year and here's what we go...</td>\n",
       "      <td>2011-09-29</td>\n",
       "      <td>A24EV6RXELQZ63</td>\n",
       "      <td>Wayne Smith</td>\n",
       "      <td>Major issues, only excuses for support</td>\n",
       "      <td>1317254400</td>\n",
       "    </tr>\n",
       "  </tbody>\n",
       "</table>\n",
       "</div>"
      ],
      "text/plain": [
       "         asin   helpful  overall  \\\n",
       "0  0528881469    [0, 0]        5   \n",
       "1  0528881469  [12, 15]        1   \n",
       "2  0528881469  [43, 45]        3   \n",
       "3  0528881469   [9, 10]        2   \n",
       "4  0528881469    [0, 0]        1   \n",
       "\n",
       "                                          reviewText reviewTime  \\\n",
       "0  We got this GPS for my husband who is an (OTR)... 2013-06-02   \n",
       "1  I'm a professional OTR truck driver, and I bou... 2010-11-25   \n",
       "2  Well, what can I say.  I've had this unit in m... 2010-09-09   \n",
       "3  Not going to write a long review, even thought... 2010-11-24   \n",
       "4  I've had mine for a year and here's what we go... 2011-09-29   \n",
       "\n",
       "       reviewerID              reviewerName  \\\n",
       "0   AO94DHGC771SJ                   amazdnu   \n",
       "1   AMO214LNFCEI4           Amazon Customer   \n",
       "2  A3N7T0DY83Y4IG             C. A. Freeman   \n",
       "3  A1H8PY3QHMQQA0  Dave M. Shaw \"mack dave\"   \n",
       "4  A24EV6RXELQZ63               Wayne Smith   \n",
       "\n",
       "                                  summary  unixReviewTime  \n",
       "0                         Gotta have GPS!      1370131200  \n",
       "1                       Very Disappointed      1290643200  \n",
       "2                          1st impression      1283990400  \n",
       "3                 Great grafics, POOR GPS      1290556800  \n",
       "4  Major issues, only excuses for support      1317254400  "
      ]
     },
     "execution_count": 157,
     "metadata": {},
     "output_type": "execute_result"
    }
   ],
   "source": [
    "raw_reviews_df.head()"
   ]
  },
  {
   "cell_type": "code",
   "execution_count": 158,
   "metadata": {},
   "outputs": [
    {
     "data": {
      "text/plain": [
       "B0002L5R78    2599\n",
       "B00007E7JU    1279\n",
       "B00004ZCJE    1258\n",
       "B0001FTVEK     950\n",
       "B00005T3G0     712\n",
       "B00007M1TZ     677\n",
       "B00017LSPI     629\n",
       "B00009R6TA     611\n",
       "B0000BZL1P     601\n",
       "B00007EDZG     586\n",
       "Name: asin, dtype: int64"
      ]
     },
     "execution_count": 158,
     "metadata": {},
     "output_type": "execute_result"
    }
   ],
   "source": [
    "raw_reviews_df['asin'].value_counts()[:10]"
   ]
  },
  {
   "cell_type": "code",
   "execution_count": 159,
   "metadata": {},
   "outputs": [
    {
     "data": {
      "text/plain": [
       "5078"
      ]
     },
     "execution_count": 159,
     "metadata": {},
     "output_type": "execute_result"
    }
   ],
   "source": [
    "len(raw_reviews_df['asin'].value_counts())"
   ]
  },
  {
   "cell_type": "code",
   "execution_count": 160,
   "metadata": {},
   "outputs": [
    {
     "data": {
      "text/plain": [
       "B0001OH8PU    5\n",
       "B00006JKWE    5\n",
       "B00005UK9Y    5\n",
       "B0002KR39O    5\n",
       "B0000665P3    5\n",
       "B00004X036    5\n",
       "B000234UQA    5\n",
       "B00008XOLT    5\n",
       "B0000CA2GY    5\n",
       "B00009V4G7    5\n",
       "Name: asin, dtype: int64"
      ]
     },
     "execution_count": 160,
     "metadata": {},
     "output_type": "execute_result"
    }
   ],
   "source": [
    "raw_reviews_df['asin'].value_counts()[5068:5078]"
   ]
  },
  {
   "cell_type": "code",
   "execution_count": 161,
   "metadata": {},
   "outputs": [],
   "source": [
    "import nltk\n",
    "from nltk.corpus import stopwords\n",
    "import wordcloud as wcloud\n",
    "from nltk.tokenize import wordpunct_tokenize\n",
    "stop = stopwords.words('english')"
   ]
  },
  {
   "cell_type": "code",
   "execution_count": 162,
   "metadata": {
    "collapsed": true
   },
   "outputs": [],
   "source": [
    "raw_reviews_df['processedReviewText'] = raw_reviews_df['reviewText'].apply(lambda x: x.lower())"
   ]
  },
  {
   "cell_type": "code",
   "execution_count": 163,
   "metadata": {
    "collapsed": true
   },
   "outputs": [],
   "source": [
    "import string\n",
    "def remove_punctuations(text):\n",
    "    for punctuation in string.punctuation:\n",
    "        text = text.replace(punctuation, '')\n",
    "    return text\n",
    "\n",
    "def remove_digits(text):\n",
    "    for digits in string.digits:\n",
    "        text = text.replace(digits, '')\n",
    "    return text"
   ]
  },
  {
   "cell_type": "code",
   "execution_count": 164,
   "metadata": {},
   "outputs": [],
   "source": [
    "raw_reviews_df['processedReviewText'] = raw_reviews_df['processedReviewText'].apply(remove_digits)"
   ]
  },
  {
   "cell_type": "code",
   "execution_count": 165,
   "metadata": {
    "collapsed": true
   },
   "outputs": [],
   "source": [
    "raw_reviews_df['processedReviewText'] = raw_reviews_df['processedReviewText'].apply(remove_punctuations)"
   ]
  },
  {
   "cell_type": "code",
   "execution_count": 166,
   "metadata": {
    "collapsed": true
   },
   "outputs": [],
   "source": [
    "raw_reviews_df['processedReviewText'] = raw_reviews_df['processedReviewText'].apply(nltk.word_tokenize)"
   ]
  },
  {
   "cell_type": "code",
   "execution_count": 167,
   "metadata": {
    "collapsed": true
   },
   "outputs": [],
   "source": [
    "raw_reviews_df['processedReviewText'] = raw_reviews_df['processedReviewText'].apply(lambda x: [item for item in x if item not in stop])"
   ]
  },
  {
   "cell_type": "code",
   "execution_count": 168,
   "metadata": {},
   "outputs": [
    {
     "data": {
      "text/plain": [
       "0    [got, gps, husband, otr, road, trucker, impres...\n",
       "1    [im, professional, otr, truck, driver, bought,...\n",
       "2    [well, say, ive, unit, truck, four, days, prio...\n",
       "3    [going, write, long, review, even, thought, un...\n",
       "4    [ive, mine, year, heres, got, tries, route, no...\n",
       "Name: processedReviewText, dtype: object"
      ]
     },
     "execution_count": 168,
     "metadata": {},
     "output_type": "execute_result"
    }
   ],
   "source": [
    "raw_reviews_df['processedReviewText'].head()"
   ]
  },
  {
   "cell_type": "code",
   "execution_count": 169,
   "metadata": {},
   "outputs": [],
   "source": [
    "words = raw_reviews_df['reviewText']\n",
    "words_str = words.str.cat(sep = ' ')\n",
    "list_of_words = [i.lower() for i in wordpunct_tokenize(words_str) if i.lower() not in stop and i.isalpha()]\n",
    "wordfreqdist = nltk.FreqDist(list_of_words)\n",
    "mostcommon = wordfreqdist.most_common(25)\n",
    "most_common_df = pd.DataFrame(mostcommon, columns=['word', 'count'])"
   ]
  },
  {
   "cell_type": "code",
   "execution_count": 170,
   "metadata": {},
   "outputs": [
    {
     "data": {
      "text/html": [
       "<div>\n",
       "<style>\n",
       "    .dataframe thead tr:only-child th {\n",
       "        text-align: right;\n",
       "    }\n",
       "\n",
       "    .dataframe thead th {\n",
       "        text-align: left;\n",
       "    }\n",
       "\n",
       "    .dataframe tbody tr th {\n",
       "        vertical-align: top;\n",
       "    }\n",
       "</style>\n",
       "<table border=\"1\" class=\"dataframe\">\n",
       "  <thead>\n",
       "    <tr style=\"text-align: right;\">\n",
       "      <th></th>\n",
       "      <th>word</th>\n",
       "      <th>count</th>\n",
       "    </tr>\n",
       "  </thead>\n",
       "  <tbody>\n",
       "    <tr>\n",
       "      <th>0</th>\n",
       "      <td>one</td>\n",
       "      <td>57102</td>\n",
       "    </tr>\n",
       "    <tr>\n",
       "      <th>1</th>\n",
       "      <td>use</td>\n",
       "      <td>50587</td>\n",
       "    </tr>\n",
       "    <tr>\n",
       "      <th>2</th>\n",
       "      <td>good</td>\n",
       "      <td>46762</td>\n",
       "    </tr>\n",
       "    <tr>\n",
       "      <th>3</th>\n",
       "      <td>great</td>\n",
       "      <td>46141</td>\n",
       "    </tr>\n",
       "    <tr>\n",
       "      <th>4</th>\n",
       "      <td>lens</td>\n",
       "      <td>43887</td>\n",
       "    </tr>\n",
       "    <tr>\n",
       "      <th>5</th>\n",
       "      <td>like</td>\n",
       "      <td>37875</td>\n",
       "    </tr>\n",
       "    <tr>\n",
       "      <th>6</th>\n",
       "      <td>get</td>\n",
       "      <td>37303</td>\n",
       "    </tr>\n",
       "    <tr>\n",
       "      <th>7</th>\n",
       "      <td>would</td>\n",
       "      <td>35805</td>\n",
       "    </tr>\n",
       "    <tr>\n",
       "      <th>8</th>\n",
       "      <td>camera</td>\n",
       "      <td>35465</td>\n",
       "    </tr>\n",
       "    <tr>\n",
       "      <th>9</th>\n",
       "      <td>well</td>\n",
       "      <td>34496</td>\n",
       "    </tr>\n",
       "    <tr>\n",
       "      <th>10</th>\n",
       "      <td>quality</td>\n",
       "      <td>32795</td>\n",
       "    </tr>\n",
       "    <tr>\n",
       "      <th>11</th>\n",
       "      <td>sound</td>\n",
       "      <td>32633</td>\n",
       "    </tr>\n",
       "    <tr>\n",
       "      <th>12</th>\n",
       "      <td>price</td>\n",
       "      <td>28345</td>\n",
       "    </tr>\n",
       "    <tr>\n",
       "      <th>13</th>\n",
       "      <td>works</td>\n",
       "      <td>26822</td>\n",
       "    </tr>\n",
       "    <tr>\n",
       "      <th>14</th>\n",
       "      <td>also</td>\n",
       "      <td>25208</td>\n",
       "    </tr>\n",
       "    <tr>\n",
       "      <th>15</th>\n",
       "      <td>cable</td>\n",
       "      <td>25066</td>\n",
       "    </tr>\n",
       "    <tr>\n",
       "      <th>16</th>\n",
       "      <td>much</td>\n",
       "      <td>25041</td>\n",
       "    </tr>\n",
       "    <tr>\n",
       "      <th>17</th>\n",
       "      <td>work</td>\n",
       "      <td>23800</td>\n",
       "    </tr>\n",
       "    <tr>\n",
       "      <th>18</th>\n",
       "      <td>time</td>\n",
       "      <td>23791</td>\n",
       "    </tr>\n",
       "    <tr>\n",
       "      <th>19</th>\n",
       "      <td>bought</td>\n",
       "      <td>23752</td>\n",
       "    </tr>\n",
       "    <tr>\n",
       "      <th>20</th>\n",
       "      <td>better</td>\n",
       "      <td>22171</td>\n",
       "    </tr>\n",
       "    <tr>\n",
       "      <th>21</th>\n",
       "      <td>used</td>\n",
       "      <td>22150</td>\n",
       "    </tr>\n",
       "    <tr>\n",
       "      <th>22</th>\n",
       "      <td>even</td>\n",
       "      <td>22059</td>\n",
       "    </tr>\n",
       "    <tr>\n",
       "      <th>23</th>\n",
       "      <td>really</td>\n",
       "      <td>21594</td>\n",
       "    </tr>\n",
       "    <tr>\n",
       "      <th>24</th>\n",
       "      <td>product</td>\n",
       "      <td>21120</td>\n",
       "    </tr>\n",
       "  </tbody>\n",
       "</table>\n",
       "</div>"
      ],
      "text/plain": [
       "       word  count\n",
       "0       one  57102\n",
       "1       use  50587\n",
       "2      good  46762\n",
       "3     great  46141\n",
       "4      lens  43887\n",
       "5      like  37875\n",
       "6       get  37303\n",
       "7     would  35805\n",
       "8    camera  35465\n",
       "9      well  34496\n",
       "10  quality  32795\n",
       "11    sound  32633\n",
       "12    price  28345\n",
       "13    works  26822\n",
       "14     also  25208\n",
       "15    cable  25066\n",
       "16     much  25041\n",
       "17     work  23800\n",
       "18     time  23791\n",
       "19   bought  23752\n",
       "20   better  22171\n",
       "21     used  22150\n",
       "22     even  22059\n",
       "23   really  21594\n",
       "24  product  21120"
      ]
     },
     "execution_count": 170,
     "metadata": {},
     "output_type": "execute_result"
    }
   ],
   "source": [
    "most_common_df"
   ]
  },
  {
   "cell_type": "code",
   "execution_count": 171,
   "metadata": {},
   "outputs": [
    {
     "data": {
      "image/png": "[encoded data removed]",
      "text/plain": [
       "<matplotlib.figure.Figure at 0x7fe23ef70828>"
      ]
     },
     "metadata": {},
     "output_type": "display_data"
    }
   ],
   "source": [
    "sns.barplot(x = 'count', y = 'word', data = most_common_df[:10])\n",
    "plt.show()"
   ]
  },
  {
   "cell_type": "code",
   "execution_count": 172,
   "metadata": {},
   "outputs": [],
   "source": [
    "cloud = wcloud.WordCloud(background_color='gray', max_font_size=45, \n",
    "                                relative_scaling=1).generate(' '.join(raw_reviews_df['reviewText']))"
   ]
  },
  {
   "cell_type": "code",
   "execution_count": 173,
   "metadata": {},
   "outputs": [
    {
     "data": {
      "text/plain": [
       "<matplotlib.image.AxesImage at 0x7fe23ef9d780>"
      ]
     },
     "execution_count": 173,
     "metadata": {},
     "output_type": "execute_result"
    },
    {
     "data": {
      "image/png": "[encoded data removed]",
      "text/plain": [
       "<matplotlib.figure.Figure at 0x7fe283141b00>"
      ]
     },
     "metadata": {},
     "output_type": "display_data"
    }
   ],
   "source": [
    "fig = plt.figure(figsize=(20, 10))\n",
    "plt.axis('off')\n",
    "plt.imshow(cloud)"
   ]
  },
  {
   "cell_type": "markdown",
   "metadata": {},
   "source": [
    "# Clustering - Topic Modelling"
   ]
  },
  {
   "cell_type": "code",
   "execution_count": 174,
   "metadata": {
    "collapsed": true
   },
   "outputs": [],
   "source": [
    "transformed_reviews_df = raw_reviews_df"
   ]
  },
  {
   "cell_type": "code",
   "execution_count": 175,
   "metadata": {},
   "outputs": [],
   "source": [
    "from sklearn.feature_extraction.text import CountVectorizer, TfidfVectorizer\n",
    "\n",
    "# tf-idf\n",
    "tf_idf_vect = TfidfVectorizer(stop_words=stop)\n",
    "tf_idf = tf_idf_vect.fit_transform(transformed_reviews_df['reviewText'])\n",
    "\n",
    "# tf\n",
    "tf_vect = CountVectorizer(stop_words=stop)\n",
    "tf = tf_vect.fit_transform(transformed_reviews_df['reviewText'])"
   ]
  },
  {
   "cell_type": "code",
   "execution_count": 176,
   "metadata": {},
   "outputs": [
    {
     "name": "stdout",
     "output_type": "stream",
     "text": [
      "Total # of features: 97164\n"
     ]
    }
   ],
   "source": [
    "print(\"Total # of features: {}\".format(len(tf_idf_vect.get_feature_names())))"
   ]
  },
  {
   "cell_type": "code",
   "execution_count": 177,
   "metadata": {
    "collapsed": true
   },
   "outputs": [],
   "source": [
    "from sklearn.decomposition import NMF, LatentDirichletAllocation\n",
    "\n",
    "nmf = NMF(n_components=10, random_state=1,\n",
    "          alpha=.1, l1_ratio=.5)\n",
    "\n",
    "lda = LatentDirichletAllocation(n_components=10, max_iter=5,\n",
    "                                learning_method='online',\n",
    "                                learning_offset=50.,\n",
    "                                random_state=0)"
   ]
  },
  {
   "cell_type": "code",
   "execution_count": 178,
   "metadata": {
    "collapsed": true
   },
   "outputs": [],
   "source": [
    "num_top_words = 15\n",
    "\n",
    "def getTopics(model, feature_names, num_top_words):\n",
    "    for idx, topic in enumerate(model.components_):\n",
    "        print(\"Topic #{}:\".format(idx), end='\\n')\n",
    "        print(\" \".join([feature_names[i]\n",
    "                        for i in topic.argsort()[:-num_top_words - 1:-1]]), end='\\n\\n')\n",
    "    print()"
   ]
  },
  {
   "cell_type": "code",
   "execution_count": 179,
   "metadata": {
    "collapsed": true
   },
   "outputs": [],
   "source": [
    "nmf_tf = nmf.fit(tf)\n",
    "nmf_1 = nmf_tf.transform(tf)"
   ]
  },
  {
   "cell_type": "code",
   "execution_count": 180,
   "metadata": {},
   "outputs": [
    {
     "name": "stdout",
     "output_type": "stream",
     "text": [
      "Topic #0:\n",
      "use player unit like get also dvd time battery cd would screen ipod even want\n",
      "\n",
      "Topic #1:\n",
      "lens canon lenses focus zoom sharp light get wide 70 use filter much 50mm ef\n",
      "\n",
      "Topic #2:\n",
      "camera pictures digital use flash cameras canon card take battery zoom picture also like batteries\n",
      "\n",
      "Topic #3:\n",
      "speakers sound system speaker bass sub set subwoofer music volume audio bose room better computer\n",
      "\n",
      "Topic #4:\n",
      "cable cables tv quality works video hdmi usb audio signal digital need box power picture\n",
      "\n",
      "Topic #5:\n",
      "router wireless card linksys network work get computer connection support laptop setup internet set windows\n",
      "\n",
      "Topic #6:\n",
      "one two would like bag bought another get new well back buy case years first\n",
      "\n",
      "Topic #7:\n",
      "headphones sound ear bass like music quality noise pair ears better use much headphone comfortable\n",
      "\n",
      "Topic #8:\n",
      "mouse use keyboard usb buttons button logitech work used using wheel like scroll optical trackball\n",
      "\n",
      "Topic #9:\n",
      "good great price quality well get really radio works better would product little buy pretty\n",
      "\n",
      "\n"
     ]
    }
   ],
   "source": [
    "getTopics(nmf_tf, tf_idf_vect.get_feature_names(), num_top_words)"
   ]
  },
  {
   "cell_type": "code",
   "execution_count": 181,
   "metadata": {
    "collapsed": true
   },
   "outputs": [],
   "source": [
    "nmf_tf_idf = nmf.fit(tf_idf)\n",
    "nmf_2 = nmf_tf.transform(tf_idf)"
   ]
  },
  {
   "cell_type": "code",
   "execution_count": 182,
   "metadata": {},
   "outputs": [
    {
     "name": "stdout",
     "output_type": "stream",
     "text": [
      "Topic #0:\n",
      "one use work get would unit time like router bought power dvd computer two player\n",
      "\n",
      "Topic #1:\n",
      "lens filter canon lenses focus sharp light hood 50mm nikon zoom wide shots get cap\n",
      "\n",
      "Topic #2:\n",
      "cable cables hdmi tv connect quality needed monster audio video signal length monitor works need\n",
      "\n",
      "Topic #3:\n",
      "headphones sound ear comfortable pair bass ears music head noise cord headphone hear volume quality\n",
      "\n",
      "Topic #4:\n",
      "camera pictures digital battery flash cameras batteries canon card take use photos picture zoom shots\n",
      "\n",
      "Topic #5:\n",
      "great works product well price fine say recommend easy advertised needed perfectly item use exactly\n",
      "\n",
      "Topic #6:\n",
      "speakers sound speaker system bass sub subwoofer wire surround set volume audio music bose room\n",
      "\n",
      "Topic #7:\n",
      "mouse keyboard logitech usb buttons mice wheel trackball optical microsoft scroll use wireless button laptop\n",
      "\n",
      "Topic #8:\n",
      "good price quality product buy recommend filter would job well excellent value sound nice cheap\n",
      "\n",
      "Topic #9:\n",
      "bag case fit carry well strap fits lenses small room tripod laptop pockets canon shoulder\n",
      "\n",
      "\n"
     ]
    }
   ],
   "source": [
    "getTopics(nmf_tf, tf_idf_vect.get_feature_names(), num_top_words)"
   ]
  },
  {
   "cell_type": "code",
   "execution_count": 183,
   "metadata": {},
   "outputs": [
    {
     "name": "stdout",
     "output_type": "stream",
     "text": [
      "--- 1028.429360628128 seconds ---\n"
     ]
    }
   ],
   "source": [
    "import time\n",
    "start_time = time.time()\n",
    "lda_tf = lda.fit(tf)\n",
    "lda_1 = lda_tf.transform(tf)\n",
    "print(\"--- %s seconds ---\" % (time.time() - start_time))"
   ]
  },
  {
   "cell_type": "code",
   "execution_count": 184,
   "metadata": {},
   "outputs": [
    {
     "name": "stdout",
     "output_type": "stream",
     "text": [
      "Topic #0:\n",
      "battery ipod software screen batteries unit use drive button keyboard also memory buttons device life\n",
      "\n",
      "Topic #1:\n",
      "cable tv cables remote hdmi video wire 34 kit digital works picture audio wall receiver\n",
      "\n",
      "Topic #2:\n",
      "sound speakers headphones bass music volume speaker system good quality ear noise audio sub set\n",
      "\n",
      "Topic #3:\n",
      "camera pictures canon flash digital cameras nikon photos shots zoom light use take battery picture\n",
      "\n",
      "Topic #4:\n",
      "one good like great would get use well price quality much really bought buy time\n",
      "\n",
      "Topic #5:\n",
      "radio antenna car fm reception signal unit stations static transmitter station channels stereo batteries radios\n",
      "\n",
      "Topic #6:\n",
      "quot oem express de pointed dc la bodies un el es pny assembly din juice\n",
      "\n",
      "Topic #7:\n",
      "lens bag lenses filter canon tripod wide strap focus light sharp carry body 70 quality\n",
      "\n",
      "Topic #8:\n",
      "player dvd cd mp3 play music shot songs players sony discs disc cds media polk\n",
      "\n",
      "Topic #9:\n",
      "mouse works computer wireless one work cable power usb router laptop use product plug great\n",
      "\n",
      "\n"
     ]
    }
   ],
   "source": [
    "getTopics(lda_tf, tf_idf_vect.get_feature_names(), num_top_words)"
   ]
  },
  {
   "cell_type": "code",
   "execution_count": 185,
   "metadata": {},
   "outputs": [
    {
     "name": "stdout",
     "output_type": "stream",
     "text": [
      "--- 773.9151151180267 seconds ---\n"
     ]
    }
   ],
   "source": [
    "start_time = time.time()\n",
    "lda_tf_idf = lda.fit(tf_idf)\n",
    "lda_2 = lda_tf.transform(tf_idf)\n",
    "print(\"--- %s seconds ---\" % (time.time() - start_time))"
   ]
  },
  {
   "cell_type": "code",
   "execution_count": 186,
   "metadata": {},
   "outputs": [
    {
     "name": "stdout",
     "output_type": "stream",
     "text": [
      "Topic #0:\n",
      "pedal er6i 07 pedals vid ch cerwin roland dunlop vega digitech benq intercom chipped wusb54gs\n",
      "\n",
      "Topic #1:\n",
      "wally readynas hu roxio 5g nv absolutly definitions valentine df 6g replacment dyi notmad pfsense\n",
      "\n",
      "Topic #2:\n",
      "vizio steering dayton 500mm len stiffness hears perpendicular switchbox qulity equipement drone thunderbolt suprise everthing\n",
      "\n",
      "Topic #3:\n",
      "expander expodisc wre54g avh ilford shotgun d800 interview condenser dave clicker dvdr mattered convinient stripes\n",
      "\n",
      "Topic #4:\n",
      "5500 bmw singapore ddr yay trucks ga 92 rotated hawaii exhaust crimpers iraq wa overheated\n",
      "\n",
      "Topic #5:\n",
      "great good one cable works use lens price well quality sound would like camera get\n",
      "\n",
      "Topic #6:\n",
      "pelican celestron d200 sunpak barlow cherry giottos reflector marine clone nozzle umbrellas a75 hardest junky\n",
      "\n",
      "Topic #7:\n",
      "de la en es el que guage muy para ver lo flatscreen oacute drywall un\n",
      "\n",
      "Topic #8:\n",
      "recomended costa rica bearings hex beer bw m40fs lr bla modulators pignose bubbles delightful ctg\n",
      "\n",
      "Topic #9:\n",
      "www http ref gp extenders ish a80 powermac verse powermid coolers admitted ware eaten definetely\n",
      "\n",
      "\n"
     ]
    }
   ],
   "source": [
    "getTopics(lda_tf_idf, tf_idf_vect.get_feature_names(), num_top_words)"
   ]
  },
  {
   "cell_type": "markdown",
   "metadata": {},
   "source": [
    "# Classification"
   ]
  },
  {
   "cell_type": "code",
   "execution_count": 187,
   "metadata": {
    "collapsed": true
   },
   "outputs": [],
   "source": [
    "classified_reviews_df = raw_reviews_df"
   ]
  },
  {
   "cell_type": "code",
   "execution_count": 188,
   "metadata": {},
   "outputs": [
    {
     "data": {
      "text/html": [
       "<div>\n",
       "<style>\n",
       "    .dataframe thead tr:only-child th {\n",
       "        text-align: right;\n",
       "    }\n",
       "\n",
       "    .dataframe thead th {\n",
       "        text-align: left;\n",
       "    }\n",
       "\n",
       "    .dataframe tbody tr th {\n",
       "        vertical-align: top;\n",
       "    }\n",
       "</style>\n",
       "<table border=\"1\" class=\"dataframe\">\n",
       "  <thead>\n",
       "    <tr style=\"text-align: right;\">\n",
       "      <th></th>\n",
       "      <th>asin</th>\n",
       "      <th>helpful</th>\n",
       "      <th>overall</th>\n",
       "      <th>reviewText</th>\n",
       "      <th>reviewTime</th>\n",
       "      <th>reviewerID</th>\n",
       "      <th>reviewerName</th>\n",
       "      <th>summary</th>\n",
       "      <th>unixReviewTime</th>\n",
       "      <th>processedReviewText</th>\n",
       "    </tr>\n",
       "  </thead>\n",
       "  <tbody>\n",
       "    <tr>\n",
       "      <th>0</th>\n",
       "      <td>0528881469</td>\n",
       "      <td>[0, 0]</td>\n",
       "      <td>5</td>\n",
       "      <td>We got this GPS for my husband who is an (OTR)...</td>\n",
       "      <td>2013-06-02</td>\n",
       "      <td>AO94DHGC771SJ</td>\n",
       "      <td>amazdnu</td>\n",
       "      <td>Gotta have GPS!</td>\n",
       "      <td>1370131200</td>\n",
       "      <td>[got, gps, husband, otr, road, trucker, impres...</td>\n",
       "    </tr>\n",
       "    <tr>\n",
       "      <th>1</th>\n",
       "      <td>0528881469</td>\n",
       "      <td>[12, 15]</td>\n",
       "      <td>1</td>\n",
       "      <td>I'm a professional OTR truck driver, and I bou...</td>\n",
       "      <td>2010-11-25</td>\n",
       "      <td>AMO214LNFCEI4</td>\n",
       "      <td>Amazon Customer</td>\n",
       "      <td>Very Disappointed</td>\n",
       "      <td>1290643200</td>\n",
       "      <td>[im, professional, otr, truck, driver, bought,...</td>\n",
       "    </tr>\n",
       "    <tr>\n",
       "      <th>2</th>\n",
       "      <td>0528881469</td>\n",
       "      <td>[43, 45]</td>\n",
       "      <td>3</td>\n",
       "      <td>Well, what can I say.  I've had this unit in m...</td>\n",
       "      <td>2010-09-09</td>\n",
       "      <td>A3N7T0DY83Y4IG</td>\n",
       "      <td>C. A. Freeman</td>\n",
       "      <td>1st impression</td>\n",
       "      <td>1283990400</td>\n",
       "      <td>[well, say, ive, unit, truck, four, days, prio...</td>\n",
       "    </tr>\n",
       "    <tr>\n",
       "      <th>3</th>\n",
       "      <td>0528881469</td>\n",
       "      <td>[9, 10]</td>\n",
       "      <td>2</td>\n",
       "      <td>Not going to write a long review, even thought...</td>\n",
       "      <td>2010-11-24</td>\n",
       "      <td>A1H8PY3QHMQQA0</td>\n",
       "      <td>Dave M. Shaw \"mack dave\"</td>\n",
       "      <td>Great grafics, POOR GPS</td>\n",
       "      <td>1290556800</td>\n",
       "      <td>[going, write, long, review, even, thought, un...</td>\n",
       "    </tr>\n",
       "    <tr>\n",
       "      <th>4</th>\n",
       "      <td>0528881469</td>\n",
       "      <td>[0, 0]</td>\n",
       "      <td>1</td>\n",
       "      <td>I've had mine for a year and here's what we go...</td>\n",
       "      <td>2011-09-29</td>\n",
       "      <td>A24EV6RXELQZ63</td>\n",
       "      <td>Wayne Smith</td>\n",
       "      <td>Major issues, only excuses for support</td>\n",
       "      <td>1317254400</td>\n",
       "      <td>[ive, mine, year, heres, got, tries, route, no...</td>\n",
       "    </tr>\n",
       "  </tbody>\n",
       "</table>\n",
       "</div>"
      ],
      "text/plain": [
       "         asin   helpful  overall  \\\n",
       "0  0528881469    [0, 0]        5   \n",
       "1  0528881469  [12, 15]        1   \n",
       "2  0528881469  [43, 45]        3   \n",
       "3  0528881469   [9, 10]        2   \n",
       "4  0528881469    [0, 0]        1   \n",
       "\n",
       "                                          reviewText reviewTime  \\\n",
       "0  We got this GPS for my husband who is an (OTR)... 2013-06-02   \n",
       "1  I'm a professional OTR truck driver, and I bou... 2010-11-25   \n",
       "2  Well, what can I say.  I've had this unit in m... 2010-09-09   \n",
       "3  Not going to write a long review, even thought... 2010-11-24   \n",
       "4  I've had mine for a year and here's what we go... 2011-09-29   \n",
       "\n",
       "       reviewerID              reviewerName  \\\n",
       "0   AO94DHGC771SJ                   amazdnu   \n",
       "1   AMO214LNFCEI4           Amazon Customer   \n",
       "2  A3N7T0DY83Y4IG             C. A. Freeman   \n",
       "3  A1H8PY3QHMQQA0  Dave M. Shaw \"mack dave\"   \n",
       "4  A24EV6RXELQZ63               Wayne Smith   \n",
       "\n",
       "                                  summary  unixReviewTime  \\\n",
       "0                         Gotta have GPS!      1370131200   \n",
       "1                       Very Disappointed      1290643200   \n",
       "2                          1st impression      1283990400   \n",
       "3                 Great grafics, POOR GPS      1290556800   \n",
       "4  Major issues, only excuses for support      1317254400   \n",
       "\n",
       "                                 processedReviewText  \n",
       "0  [got, gps, husband, otr, road, trucker, impres...  \n",
       "1  [im, professional, otr, truck, driver, bought,...  \n",
       "2  [well, say, ive, unit, truck, four, days, prio...  \n",
       "3  [going, write, long, review, even, thought, un...  \n",
       "4  [ive, mine, year, heres, got, tries, route, no...  "
      ]
     },
     "execution_count": 188,
     "metadata": {},
     "output_type": "execute_result"
    }
   ],
   "source": [
    "classified_reviews_df.head()"
   ]
  },
  {
   "cell_type": "code",
   "execution_count": 189,
   "metadata": {},
   "outputs": [],
   "source": [
    "classified_reviews_df['ratings_labeled'] = [1 if ratings >= 3 else 0 for ratings in classified_reviews_df['overall']]"
   ]
  },
  {
   "cell_type": "code",
   "execution_count": 190,
   "metadata": {},
   "outputs": [
    {
     "data": {
      "text/html": [
       "<div>\n",
       "<style>\n",
       "    .dataframe thead tr:only-child th {\n",
       "        text-align: right;\n",
       "    }\n",
       "\n",
       "    .dataframe thead th {\n",
       "        text-align: left;\n",
       "    }\n",
       "\n",
       "    .dataframe tbody tr th {\n",
       "        vertical-align: top;\n",
       "    }\n",
       "</style>\n",
       "<table border=\"1\" class=\"dataframe\">\n",
       "  <thead>\n",
       "    <tr style=\"text-align: right;\">\n",
       "      <th></th>\n",
       "      <th>asin</th>\n",
       "      <th>helpful</th>\n",
       "      <th>overall</th>\n",
       "      <th>reviewText</th>\n",
       "      <th>reviewTime</th>\n",
       "      <th>reviewerID</th>\n",
       "      <th>reviewerName</th>\n",
       "      <th>summary</th>\n",
       "      <th>unixReviewTime</th>\n",
       "      <th>processedReviewText</th>\n",
       "      <th>ratings_labeled</th>\n",
       "    </tr>\n",
       "  </thead>\n",
       "  <tbody>\n",
       "    <tr>\n",
       "      <th>0</th>\n",
       "      <td>0528881469</td>\n",
       "      <td>[0, 0]</td>\n",
       "      <td>5</td>\n",
       "      <td>We got this GPS for my husband who is an (OTR)...</td>\n",
       "      <td>2013-06-02</td>\n",
       "      <td>AO94DHGC771SJ</td>\n",
       "      <td>amazdnu</td>\n",
       "      <td>Gotta have GPS!</td>\n",
       "      <td>1370131200</td>\n",
       "      <td>[got, gps, husband, otr, road, trucker, impres...</td>\n",
       "      <td>1</td>\n",
       "    </tr>\n",
       "    <tr>\n",
       "      <th>1</th>\n",
       "      <td>0528881469</td>\n",
       "      <td>[12, 15]</td>\n",
       "      <td>1</td>\n",
       "      <td>I'm a professional OTR truck driver, and I bou...</td>\n",
       "      <td>2010-11-25</td>\n",
       "      <td>AMO214LNFCEI4</td>\n",
       "      <td>Amazon Customer</td>\n",
       "      <td>Very Disappointed</td>\n",
       "      <td>1290643200</td>\n",
       "      <td>[im, professional, otr, truck, driver, bought,...</td>\n",
       "      <td>0</td>\n",
       "    </tr>\n",
       "    <tr>\n",
       "      <th>2</th>\n",
       "      <td>0528881469</td>\n",
       "      <td>[43, 45]</td>\n",
       "      <td>3</td>\n",
       "      <td>Well, what can I say.  I've had this unit in m...</td>\n",
       "      <td>2010-09-09</td>\n",
       "      <td>A3N7T0DY83Y4IG</td>\n",
       "      <td>C. A. Freeman</td>\n",
       "      <td>1st impression</td>\n",
       "      <td>1283990400</td>\n",
       "      <td>[well, say, ive, unit, truck, four, days, prio...</td>\n",
       "      <td>1</td>\n",
       "    </tr>\n",
       "    <tr>\n",
       "      <th>3</th>\n",
       "      <td>0528881469</td>\n",
       "      <td>[9, 10]</td>\n",
       "      <td>2</td>\n",
       "      <td>Not going to write a long review, even thought...</td>\n",
       "      <td>2010-11-24</td>\n",
       "      <td>A1H8PY3QHMQQA0</td>\n",
       "      <td>Dave M. Shaw \"mack dave\"</td>\n",
       "      <td>Great grafics, POOR GPS</td>\n",
       "      <td>1290556800</td>\n",
       "      <td>[going, write, long, review, even, thought, un...</td>\n",
       "      <td>0</td>\n",
       "    </tr>\n",
       "    <tr>\n",
       "      <th>4</th>\n",
       "      <td>0528881469</td>\n",
       "      <td>[0, 0]</td>\n",
       "      <td>1</td>\n",
       "      <td>I've had mine for a year and here's what we go...</td>\n",
       "      <td>2011-09-29</td>\n",
       "      <td>A24EV6RXELQZ63</td>\n",
       "      <td>Wayne Smith</td>\n",
       "      <td>Major issues, only excuses for support</td>\n",
       "      <td>1317254400</td>\n",
       "      <td>[ive, mine, year, heres, got, tries, route, no...</td>\n",
       "      <td>0</td>\n",
       "    </tr>\n",
       "  </tbody>\n",
       "</table>\n",
       "</div>"
      ],
      "text/plain": [
       "         asin   helpful  overall  \\\n",
       "0  0528881469    [0, 0]        5   \n",
       "1  0528881469  [12, 15]        1   \n",
       "2  0528881469  [43, 45]        3   \n",
       "3  0528881469   [9, 10]        2   \n",
       "4  0528881469    [0, 0]        1   \n",
       "\n",
       "                                          reviewText reviewTime  \\\n",
       "0  We got this GPS for my husband who is an (OTR)... 2013-06-02   \n",
       "1  I'm a professional OTR truck driver, and I bou... 2010-11-25   \n",
       "2  Well, what can I say.  I've had this unit in m... 2010-09-09   \n",
       "3  Not going to write a long review, even thought... 2010-11-24   \n",
       "4  I've had mine for a year and here's what we go... 2011-09-29   \n",
       "\n",
       "       reviewerID              reviewerName  \\\n",
       "0   AO94DHGC771SJ                   amazdnu   \n",
       "1   AMO214LNFCEI4           Amazon Customer   \n",
       "2  A3N7T0DY83Y4IG             C. A. Freeman   \n",
       "3  A1H8PY3QHMQQA0  Dave M. Shaw \"mack dave\"   \n",
       "4  A24EV6RXELQZ63               Wayne Smith   \n",
       "\n",
       "                                  summary  unixReviewTime  \\\n",
       "0                         Gotta have GPS!      1370131200   \n",
       "1                       Very Disappointed      1290643200   \n",
       "2                          1st impression      1283990400   \n",
       "3                 Great grafics, POOR GPS      1290556800   \n",
       "4  Major issues, only excuses for support      1317254400   \n",
       "\n",
       "                                 processedReviewText  ratings_labeled  \n",
       "0  [got, gps, husband, otr, road, trucker, impres...                1  \n",
       "1  [im, professional, otr, truck, driver, bought,...                0  \n",
       "2  [well, say, ive, unit, truck, four, days, prio...                1  \n",
       "3  [going, write, long, review, even, thought, un...                0  \n",
       "4  [ive, mine, year, heres, got, tries, route, no...                0  "
      ]
     },
     "execution_count": 190,
     "metadata": {},
     "output_type": "execute_result"
    }
   ],
   "source": [
    "classified_reviews_df.head()"
   ]
  },
  {
   "cell_type": "code",
   "execution_count": 191,
   "metadata": {},
   "outputs": [
    {
     "data": {
      "text/plain": [
       "1    109889\n",
       "0     13691\n",
       "Name: ratings_labeled, dtype: int64"
      ]
     },
     "execution_count": 191,
     "metadata": {},
     "output_type": "execute_result"
    }
   ],
   "source": [
    "classified_reviews_df['ratings_labeled'].value_counts()"
   ]
  },
  {
   "cell_type": "code",
   "execution_count": 192,
   "metadata": {},
   "outputs": [],
   "source": [
    "from sklearn.model_selection import train_test_split\n",
    "\n",
    "X_train, X_test, y_train, y_test = train_test_split(classified_reviews_df['reviewText'], \n",
    "                                                    classified_reviews_df['ratings_labeled'], \n",
    "                                                    random_state=0)"
   ]
  },
  {
   "cell_type": "code",
   "execution_count": 193,
   "metadata": {
    "collapsed": true
   },
   "outputs": [],
   "source": [
    "c_vect = CountVectorizer(min_df=5).fit(X_train)\n",
    "X_train = c_vect.transform(X_train)"
   ]
  },
  {
   "cell_type": "code",
   "execution_count": 194,
   "metadata": {},
   "outputs": [],
   "source": [
    "from sklearn.linear_model import LogisticRegression\n",
    "\n",
    "logistic_l1 = LogisticRegression(penalty='l1').fit(X_train, y_train)\n",
    "\n",
    "X_test = c_vect.transform(X_test)\n",
    "\n",
    "log_y_pred = logistic_l1.predict(X_test)"
   ]
  },
  {
   "cell_type": "code",
   "execution_count": 195,
   "metadata": {},
   "outputs": [
    {
     "name": "stdout",
     "output_type": "stream",
     "text": [
      "Accuracy of Logistic with Lasso on test set: 0.92\n"
     ]
    }
   ],
   "source": [
    "print('Accuracy of Logistic with Lasso on test set: {:.2f}'.format(logistic_l1.score(X_test, y_test)))"
   ]
  },
  {
   "cell_type": "code",
   "execution_count": 196,
   "metadata": {},
   "outputs": [
    {
     "data": {
      "text/plain": [
       "[Text(0,0.5,'Negative'), Text(0,1.5,'Positive')]"
      ]
     },
     "execution_count": 196,
     "metadata": {},
     "output_type": "execute_result"
    },
    {
     "data": {
      "image/png": "[encoded data removed]",
      "text/plain": [
       "<matplotlib.figure.Figure at 0x7fe2867e8208>"
      ]
     },
     "metadata": {},
     "output_type": "display_data"
    }
   ],
   "source": [
    "from sklearn.metrics import confusion_matrix\n",
    "\n",
    "cfm = confusion_matrix(y_test, log_y_pred, labels=[0, 1])\n",
    "\n",
    "ax= plt.subplot()\n",
    "sns.heatmap(cfm, annot=cfm, ax = ax, cmap = 'PiYG', fmt='g')\n",
    "\n",
    "ax.set_xlabel('Predicted labels')\n",
    "ax.set_ylabel('True labels')\n",
    "ax.set_title('Confusion Matrix')\n",
    "ax.xaxis.set_ticklabels(['Negative', 'Positive']); ax.yaxis.set_ticklabels(['Negative', 'Positive'])"
   ]
  },
  {
   "cell_type": "code",
   "execution_count": 197,
   "metadata": {},
   "outputs": [
    {
     "name": "stdout",
     "output_type": "stream",
     "text": [
      "             precision    recall  f1-score   support\n",
      "\n",
      "          0       0.68      0.53      0.60      3404\n",
      "          1       0.94      0.97      0.96     27491\n",
      "\n",
      "avg / total       0.91      0.92      0.92     30895\n",
      "\n"
     ]
    }
   ],
   "source": [
    "from sklearn.metrics import classification_report\n",
    "print(classification_report(y_test, log_y_pred))"
   ]
  },
  {
   "cell_type": "code",
   "execution_count": 198,
   "metadata": {},
   "outputs": [],
   "source": [
    "from sklearn.linear_model import SGDClassifier\n",
    "\n",
    "sgd_l2 = SGDClassifier(penalty='l2', loss = 'hinge').fit(X_train, y_train)\n",
    "\n",
    "sgd_y_pred = sgd_l2.predict(X_test)"
   ]
  },
  {
   "cell_type": "code",
   "execution_count": 199,
   "metadata": {},
   "outputs": [
    {
     "name": "stdout",
     "output_type": "stream",
     "text": [
      "Accuracy of Stocastic Gradient Descent with Ridge on test set: 0.92\n"
     ]
    }
   ],
   "source": [
    "print('Accuracy of Stocastic Gradient Descent with Ridge on test set: {:.2f}'.format(sgd_l2.score(X_test, y_test)))"
   ]
  },
  {
   "cell_type": "code",
   "execution_count": 200,
   "metadata": {
    "collapsed": true
   },
   "outputs": [],
   "source": [
    "from sklearn.naive_bayes import MultinomialNB\n",
    "\n",
    "multi_nb = MultinomialNB(alpha=.01).fit(X_train, y_train)\n",
    "\n",
    "mnb_y_pred = multi_nb.predict(X_test)"
   ]
  },
  {
   "cell_type": "code",
   "execution_count": 201,
   "metadata": {},
   "outputs": [
    {
     "name": "stdout",
     "output_type": "stream",
     "text": [
      "Accuracy of Multinomial NB on test set: 0.87\n"
     ]
    }
   ],
   "source": [
    "print('Accuracy of Multinomial NB on test set: {:.2f}'.format(multi_nb.score(X_test, y_test)))"
   ]
  },
  {
   "cell_type": "code",
   "execution_count": 202,
   "metadata": {
    "collapsed": true
   },
   "outputs": [],
   "source": [
    "from sklearn.ensemble import RandomForestClassifier\n",
    "\n",
    "rf = RandomForestClassifier(criterion = 'entropy').fit(X_train, y_train)\n",
    "\n",
    "rf_y_pred = rf.predict(X_test)"
   ]
  },
  {
   "cell_type": "code",
   "execution_count": 203,
   "metadata": {},
   "outputs": [
    {
     "name": "stdout",
     "output_type": "stream",
     "text": [
      "Accuracy of Random Forests on test set: 0.90\n"
     ]
    }
   ],
   "source": [
    "print('Accuracy of Random Forests on test set: {:.2f}'.format(rf.score(X_test, y_test)))"
   ]
  },
  {
   "cell_type": "code",
   "execution_count": 204,
   "metadata": {},
   "outputs": [
    {
     "name": "stdout",
     "output_type": "stream",
     "text": [
      "[1]\n"
     ]
    }
   ],
   "source": [
    "print(sgd_l2.predict(c_vect.transform([\"Bad Camera don't buy this\"])))"
   ]
  },
  {
   "cell_type": "code",
   "execution_count": 205,
   "metadata": {
    "collapsed": true
   },
   "outputs": [],
   "source": [
    "import imblearn \n",
    "from imblearn.over_sampling import SMOTE"
   ]
  },
  {
   "cell_type": "code",
   "execution_count": 206,
   "metadata": {},
   "outputs": [],
   "source": [
    "sm = SMOTE(random_state=12, ratio = 'minority')\n",
    "X_train_res, y_train_res = sm.fit_sample(X_train, y_train)"
   ]
  },
  {
   "cell_type": "code",
   "execution_count": 207,
   "metadata": {},
   "outputs": [],
   "source": [
    "sgd_l2_2 = SGDClassifier(penalty='l2', loss = 'hinge').fit(X_train_res, y_train_res)\n",
    "\n",
    "sgd_2_y_pred = sgd_l2_2.predict(X_test)"
   ]
  },
  {
   "cell_type": "code",
   "execution_count": 208,
   "metadata": {},
   "outputs": [
    {
     "name": "stdout",
     "output_type": "stream",
     "text": [
      "Accuracy of Stocastic Gradient Descent with Ridge on test set: 0.88\n"
     ]
    }
   ],
   "source": [
    "print('Accuracy of Stocastic Gradient Descent with Ridge on test set: {:.2f}'.format(sgd_l2_2.score(X_test, y_test)))"
   ]
  },
  {
   "cell_type": "code",
   "execution_count": 209,
   "metadata": {},
   "outputs": [
    {
     "name": "stdout",
     "output_type": "stream",
     "text": [
      "[0]\n"
     ]
    }
   ],
   "source": [
    "print(sgd_l2_2.predict(c_vect.transform([\"Bad Camera don't buy this\"])))"
   ]
  },
  {
   "cell_type": "code",
   "execution_count": 210,
   "metadata": {},
   "outputs": [
    {
     "name": "stdout",
     "output_type": "stream",
     "text": [
      "[0]\n"
     ]
    }
   ],
   "source": [
    "print(sgd_l2_2.predict(c_vect.transform([\"Very Good Cable please buy it\"])))"
   ]
  },
  {
   "cell_type": "code",
   "execution_count": 211,
   "metadata": {},
   "outputs": [
    {
     "data": {
      "text/plain": [
       "[Text(0,0.5,'Negative'), Text(0,1.5,'Positive')]"
      ]
     },
     "execution_count": 211,
     "metadata": {},
     "output_type": "execute_result"
    },
    {
     "data": {
      "image/png": "[encoded data removed]",
      "text/plain": [
       "<matplotlib.figure.Figure at 0x7fe286784f60>"
      ]
     },
     "metadata": {},
     "output_type": "display_data"
    }
   ],
   "source": [
    "cfm = confusion_matrix(y_test, sgd_2_y_pred, labels=[0, 1])\n",
    "\n",
    "ax= plt.subplot()\n",
    "sns.heatmap(cfm, annot=cfm, ax = ax, cmap = 'PiYG', fmt='g')\n",
    "\n",
    "ax.set_xlabel('Predicted labels')\n",
    "ax.set_ylabel('True labels')\n",
    "ax.set_title('Confusion Matrix')\n",
    "ax.xaxis.set_ticklabels(['Negative', 'Positive']); ax.yaxis.set_ticklabels(['Negative', 'Positive'])"
   ]
  },
  {
   "cell_type": "code",
   "execution_count": 212,
   "metadata": {},
   "outputs": [
    {
     "name": "stdout",
     "output_type": "stream",
     "text": [
      "             precision    recall  f1-score   support\n",
      "\n",
      "          0       0.48      0.74      0.58      3404\n",
      "          1       0.97      0.90      0.93     27491\n",
      "\n",
      "avg / total       0.91      0.88      0.89     30895\n",
      "\n"
     ]
    }
   ],
   "source": [
    "print(classification_report(y_test, sgd_2_y_pred))"
   ]
  },
  {
   "cell_type": "code",
   "execution_count": 213,
   "metadata": {},
   "outputs": [
    {
     "data": {
      "text/plain": [
       "{'C': 0.1, 'penalty': 'l2'}"
      ]
     },
     "execution_count": 213,
     "metadata": {},
     "output_type": "execute_result"
    }
   ],
   "source": [
    "from sklearn.model_selection import GridSearchCV\n",
    "\n",
    "parameters={'penalty' : ['l1', 'l2'], 'C' : [0.001, 0.01, 0.1, 1, 10]} \n",
    "clf_log=LogisticRegression() \n",
    "clf=GridSearchCV(clf_log,parameters) \n",
    "clf.fit(X_train,y_train)\n",
    "clf.best_params_"
   ]
  },
  {
   "cell_type": "code",
   "execution_count": 214,
   "metadata": {},
   "outputs": [
    {
     "name": "stdout",
     "output_type": "stream",
     "text": [
      "Accuracy of Logistic with l2 penalty on test set: 0.92\n"
     ]
    }
   ],
   "source": [
    "logistic_l2 = LogisticRegression(penalty='l2', C=0.1).fit(X_train, y_train)\n",
    "\n",
    "log_y_pred = logistic_l2.predict(X_test)\n",
    "\n",
    "print('Accuracy of Logistic with l2 penalty on test set: {:.2f}'.format(logistic_l2.score(X_test, y_test)))"
   ]
  },
  {
   "cell_type": "code",
   "execution_count": 215,
   "metadata": {},
   "outputs": [
    {
     "data": {
      "text/plain": [
       "{'alpha': 0.001, 'loss': 'log', 'penalty': 'l2'}"
      ]
     },
     "execution_count": 215,
     "metadata": {},
     "output_type": "execute_result"
    }
   ],
   "source": [
    "parameters={'penalty' : ['l1', 'l2'], 'alpha' : [0.001, 0.01, 0.1, 1, 10], 'loss' : ['hinge', 'log', 'perceptron']} \n",
    "clf_sgd=SGDClassifier() \n",
    "clf=GridSearchCV(clf_sgd,parameters) \n",
    "clf.fit(X_train,y_train)\n",
    "clf.best_params_"
   ]
  },
  {
   "cell_type": "code",
   "execution_count": 216,
   "metadata": {},
   "outputs": [
    {
     "name": "stdout",
     "output_type": "stream",
     "text": [
      "Accuracy of Stocastic Gradient Descent Classifier with l2 penalty on test set: 0.91\n"
     ]
    }
   ],
   "source": [
    "sgd_l2 = SGDClassifier(penalty='l2', alpha=0.01, loss= 'hinge').fit(X_train, y_train)\n",
    "\n",
    "sgd_y_pred = sgd_l2.predict(X_test)\n",
    "\n",
    "print('Accuracy of Stocastic Gradient Descent Classifier with l2 penalty on test set: {:.2f}'.format(sgd_l2.score(X_test, y_test)))"
   ]
  },
  {
   "cell_type": "code",
   "execution_count": 217,
   "metadata": {},
   "outputs": [
    {
     "name": "stdout",
     "output_type": "stream",
     "text": [
      "             precision    recall  f1-score   support\n",
      "\n",
      "          0       0.84      0.20      0.33      3404\n",
      "          1       0.91      1.00      0.95     27491\n",
      "\n",
      "avg / total       0.90      0.91      0.88     30895\n",
      "\n"
     ]
    }
   ],
   "source": [
    "print(classification_report(y_test, sgd_y_pred))"
   ]
  },
  {
   "cell_type": "code",
   "execution_count": 218,
   "metadata": {},
   "outputs": [
    {
     "name": "stdout",
     "output_type": "stream",
     "text": [
      "             precision    recall  f1-score   support\n",
      "\n",
      "          0       0.73      0.48      0.58      3404\n",
      "          1       0.94      0.98      0.96     27491\n",
      "\n",
      "avg / total       0.92      0.92      0.92     30895\n",
      "\n"
     ]
    }
   ],
   "source": [
    "print(classification_report(y_test, log_y_pred))"
   ]
  },
  {
   "cell_type": "code",
   "execution_count": 219,
   "metadata": {},
   "outputs": [
    {
     "name": "stdout",
     "output_type": "stream",
     "text": [
      "             precision    recall  f1-score   support\n",
      "\n",
      "          0       0.48      0.74      0.58      3404\n",
      "          1       0.97      0.90      0.93     27491\n",
      "\n",
      "avg / total       0.91      0.88      0.89     30895\n",
      "\n"
     ]
    }
   ],
   "source": [
    "print(classification_report(y_test, sgd_2_y_pred))"
   ]
  },
  {
   "cell_type": "code",
   "execution_count": 220,
   "metadata": {},
   "outputs": [
    {
     "data": {
      "text/html": [
       "<div>\n",
       "<style>\n",
       "    .dataframe thead tr:only-child th {\n",
       "        text-align: right;\n",
       "    }\n",
       "\n",
       "    .dataframe thead th {\n",
       "        text-align: left;\n",
       "    }\n",
       "\n",
       "    .dataframe tbody tr th {\n",
       "        vertical-align: top;\n",
       "    }\n",
       "</style>\n",
       "<table border=\"1\" class=\"dataframe\">\n",
       "  <thead>\n",
       "    <tr style=\"text-align: right;\">\n",
       "      <th></th>\n",
       "      <th>Accuracy</th>\n",
       "      <th>Model</th>\n",
       "    </tr>\n",
       "  </thead>\n",
       "  <tbody>\n",
       "    <tr>\n",
       "      <th>0</th>\n",
       "      <td>0.921120</td>\n",
       "      <td>Logistic</td>\n",
       "    </tr>\n",
       "    <tr>\n",
       "      <th>1</th>\n",
       "      <td>0.873442</td>\n",
       "      <td>MNB</td>\n",
       "    </tr>\n",
       "    <tr>\n",
       "      <th>2</th>\n",
       "      <td>0.897621</td>\n",
       "      <td>RF</td>\n",
       "    </tr>\n",
       "    <tr>\n",
       "      <th>3</th>\n",
       "      <td>0.883476</td>\n",
       "      <td>SGD_2</td>\n",
       "    </tr>\n",
       "    <tr>\n",
       "      <th>4</th>\n",
       "      <td>0.923450</td>\n",
       "      <td>Logistic_CV</td>\n",
       "    </tr>\n",
       "    <tr>\n",
       "      <th>5</th>\n",
       "      <td>0.907914</td>\n",
       "      <td>SGD_CV</td>\n",
       "    </tr>\n",
       "  </tbody>\n",
       "</table>\n",
       "</div>"
      ],
      "text/plain": [
       "   Accuracy        Model\n",
       "0  0.921120     Logistic\n",
       "1  0.873442          MNB\n",
       "2  0.897621           RF\n",
       "3  0.883476        SGD_2\n",
       "4  0.923450  Logistic_CV\n",
       "5  0.907914       SGD_CV"
      ]
     },
     "execution_count": 220,
     "metadata": {},
     "output_type": "execute_result"
    }
   ],
   "source": [
    "names = ['Logistic', 'MNB', 'RF', 'SGD_2', 'Logistic_CV', 'SGD_CV']\n",
    "results = [logistic_l1.score(X_test, y_test),\n",
    "           multi_nb.score(X_test, y_test),\n",
    "           rf.score(X_test, y_test),\n",
    "           sgd_l2_2.score(X_test, y_test),\n",
    "           logistic_l2.score(X_test, y_test),\n",
    "           sgd_l2.score(X_test, y_test)]\n",
    "\n",
    "d = {'Model': names, 'Accuracy': results}\n",
    "df = pd.DataFrame(data=d)\n",
    "df"
   ]
  },
  {
   "cell_type": "code",
   "execution_count": 221,
   "metadata": {},
   "outputs": [
    {
     "name": "stdout",
     "output_type": "stream",
     "text": [
      "[1]\n"
     ]
    }
   ],
   "source": [
    "print(logistic_l2.predict(c_vect.transform([\"Bad Camera don't buy this\"])))"
   ]
  },
  {
   "cell_type": "code",
   "execution_count": 222,
   "metadata": {},
   "outputs": [
    {
     "name": "stdout",
     "output_type": "stream",
     "text": [
      "[0]\n"
     ]
    }
   ],
   "source": [
    "print(sgd_l2_2.predict(c_vect.transform([\"I think this is a very good product do not buy it\"])))"
   ]
  },
  {
   "cell_type": "code",
   "execution_count": 223,
   "metadata": {
    "collapsed": true
   },
   "outputs": [],
   "source": [
    "X_train_tf, X_test_tf, y_train_tf, y_test_tf = train_test_split(classified_reviews_df['reviewText'], \n",
    "                                                    classified_reviews_df['ratings_labeled'], \n",
    "                                                    random_state=0)\n",
    "\n",
    "tf_idf_vect = TfidfVectorizer(min_df=5).fit(X_train_tf)\n",
    "X_train_tf = tf_idf_vect.transform(X_train_tf)"
   ]
  },
  {
   "cell_type": "code",
   "execution_count": 224,
   "metadata": {
    "collapsed": true
   },
   "outputs": [],
   "source": [
    "sm = SMOTE(random_state=12, ratio = 'minority')\n",
    "X_train_res_tf, y_train_res_tf = sm.fit_sample(X_train_tf, y_train_tf)"
   ]
  },
  {
   "cell_type": "code",
   "execution_count": 225,
   "metadata": {
    "collapsed": true
   },
   "outputs": [],
   "source": [
    "sgd_tf = SGDClassifier(penalty='l2', loss = 'hinge').fit(X_train_res_tf, y_train_res_tf)\n",
    "\n",
    "X_test_tf = tf_idf_vect.transform(X_test_tf)\n",
    "\n",
    "sgd_tf_y_pred = sgd_tf.predict(X_test_tf)"
   ]
  },
  {
   "cell_type": "code",
   "execution_count": 227,
   "metadata": {},
   "outputs": [
    {
     "name": "stdout",
     "output_type": "stream",
     "text": [
      "Accuracy of Stocastic Gradient Descent Classifier tf-idf with l2 penalty on test set: 0.85\n"
     ]
    }
   ],
   "source": [
    "print('Accuracy of Stocastic Gradient Descent Classifier tf-idf with l2 penalty on test set: {:.2f}'.format(sgd_tf.score(X_test_tf, y_test_tf)))"
   ]
  },
  {
   "cell_type": "code",
   "execution_count": null,
   "metadata": {
    "collapsed": true
   },
   "outputs": [],
   "source": []
  }
 ],
 "metadata": {
  "kernelspec": {
   "display_name": "Python 3",
   "language": "python",
   "name": "python3"
  },
  "language_info": {
   "codemirror_mode": {
    "name": "ipython",
    "version": 3
   },
   "file_extension": ".py",
   "mimetype": "text/x-python",
   "name": "python",
   "nbconvert_exporter": "python",
   "pygments_lexer": "ipython3",
   "version": "3.6.3"
  }
 },
 "nbformat": 4,
 "nbformat_minor": 2
}
